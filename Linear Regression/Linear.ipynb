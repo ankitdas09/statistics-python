{
 "cells": [
  {
   "cell_type": "code",
   "execution_count": 1,
   "id": "e2ec4a67",
   "metadata": {},
   "outputs": [],
   "source": [
    "# libraries\n",
    "import statsmodels.api as sm\n",
    "import matplotlib.pyplot as plt\n",
    "import numpy as np\n",
    "import pandas as pd"
   ]
  },
  {
   "cell_type": "code",
   "execution_count": 2,
   "id": "93451b22",
   "metadata": {},
   "outputs": [
    {
     "data": {
      "text/html": [
       "<div>\n",
       "<style scoped>\n",
       "    .dataframe tbody tr th:only-of-type {\n",
       "        vertical-align: middle;\n",
       "    }\n",
       "\n",
       "    .dataframe tbody tr th {\n",
       "        vertical-align: top;\n",
       "    }\n",
       "\n",
       "    .dataframe thead th {\n",
       "        text-align: right;\n",
       "    }\n",
       "</style>\n",
       "<table border=\"1\" class=\"dataframe\">\n",
       "  <thead>\n",
       "    <tr style=\"text-align: right;\">\n",
       "      <th></th>\n",
       "      <th>Unnamed: 0</th>\n",
       "      <th>carat</th>\n",
       "      <th>colour</th>\n",
       "      <th>clarity</th>\n",
       "      <th>certification</th>\n",
       "      <th>price</th>\n",
       "    </tr>\n",
       "  </thead>\n",
       "  <tbody>\n",
       "    <tr>\n",
       "      <th>0</th>\n",
       "      <td>1</td>\n",
       "      <td>0.30</td>\n",
       "      <td>D</td>\n",
       "      <td>VS2</td>\n",
       "      <td>GIA</td>\n",
       "      <td>1302</td>\n",
       "    </tr>\n",
       "    <tr>\n",
       "      <th>1</th>\n",
       "      <td>2</td>\n",
       "      <td>0.30</td>\n",
       "      <td>E</td>\n",
       "      <td>VS1</td>\n",
       "      <td>GIA</td>\n",
       "      <td>1510</td>\n",
       "    </tr>\n",
       "    <tr>\n",
       "      <th>2</th>\n",
       "      <td>3</td>\n",
       "      <td>0.30</td>\n",
       "      <td>G</td>\n",
       "      <td>VVS1</td>\n",
       "      <td>GIA</td>\n",
       "      <td>1510</td>\n",
       "    </tr>\n",
       "    <tr>\n",
       "      <th>3</th>\n",
       "      <td>4</td>\n",
       "      <td>0.30</td>\n",
       "      <td>G</td>\n",
       "      <td>VS1</td>\n",
       "      <td>GIA</td>\n",
       "      <td>1260</td>\n",
       "    </tr>\n",
       "    <tr>\n",
       "      <th>4</th>\n",
       "      <td>5</td>\n",
       "      <td>0.31</td>\n",
       "      <td>D</td>\n",
       "      <td>VS1</td>\n",
       "      <td>GIA</td>\n",
       "      <td>1641</td>\n",
       "    </tr>\n",
       "  </tbody>\n",
       "</table>\n",
       "</div>"
      ],
      "text/plain": [
       "   Unnamed: 0  carat colour clarity certification  price\n",
       "0           1   0.30      D     VS2           GIA   1302\n",
       "1           2   0.30      E     VS1           GIA   1510\n",
       "2           3   0.30      G    VVS1           GIA   1510\n",
       "3           4   0.30      G     VS1           GIA   1260\n",
       "4           5   0.31      D     VS1           GIA   1641"
      ]
     },
     "execution_count": 2,
     "metadata": {},
     "output_type": "execute_result"
    }
   ],
   "source": [
    "df = pd.read_csv('diamond.csv')\n",
    "df.head()"
   ]
  },
  {
   "cell_type": "markdown",
   "id": "27ce7254",
   "metadata": {},
   "source": [
    "# Data preparation"
   ]
  },
  {
   "cell_type": "code",
   "execution_count": 4,
   "id": "68852421",
   "metadata": {},
   "outputs": [],
   "source": [
    "# isolate X and Y\n",
    "# y -> dependent variable\n",
    "y = df['price']\n",
    "X = df['carat']"
   ]
  },
  {
   "cell_type": "code",
   "execution_count": 8,
   "id": "7b047f9b",
   "metadata": {},
   "outputs": [
    {
     "data": {
      "text/html": [
       "<div>\n",
       "<style scoped>\n",
       "    .dataframe tbody tr th:only-of-type {\n",
       "        vertical-align: middle;\n",
       "    }\n",
       "\n",
       "    .dataframe tbody tr th {\n",
       "        vertical-align: top;\n",
       "    }\n",
       "\n",
       "    .dataframe thead th {\n",
       "        text-align: right;\n",
       "    }\n",
       "</style>\n",
       "<table border=\"1\" class=\"dataframe\">\n",
       "  <thead>\n",
       "    <tr style=\"text-align: right;\">\n",
       "      <th></th>\n",
       "      <th>const</th>\n",
       "      <th>carat</th>\n",
       "    </tr>\n",
       "  </thead>\n",
       "  <tbody>\n",
       "    <tr>\n",
       "      <th>0</th>\n",
       "      <td>1.0</td>\n",
       "      <td>0.30</td>\n",
       "    </tr>\n",
       "    <tr>\n",
       "      <th>1</th>\n",
       "      <td>1.0</td>\n",
       "      <td>0.30</td>\n",
       "    </tr>\n",
       "    <tr>\n",
       "      <th>2</th>\n",
       "      <td>1.0</td>\n",
       "      <td>0.30</td>\n",
       "    </tr>\n",
       "    <tr>\n",
       "      <th>3</th>\n",
       "      <td>1.0</td>\n",
       "      <td>0.30</td>\n",
       "    </tr>\n",
       "    <tr>\n",
       "      <th>4</th>\n",
       "      <td>1.0</td>\n",
       "      <td>0.31</td>\n",
       "    </tr>\n",
       "  </tbody>\n",
       "</table>\n",
       "</div>"
      ],
      "text/plain": [
       "   const  carat\n",
       "0    1.0   0.30\n",
       "1    1.0   0.30\n",
       "2    1.0   0.30\n",
       "3    1.0   0.30\n",
       "4    1.0   0.31"
      ]
     },
     "execution_count": 8,
     "metadata": {},
     "output_type": "execute_result"
    }
   ],
   "source": [
    "# adding constant \n",
    "X = sm.add_constant(X)\n",
    "X.head()"
   ]
  },
  {
   "cell_type": "markdown",
   "id": "1241ff04",
   "metadata": {},
   "source": [
    "# Linear Regression"
   ]
  },
  {
   "cell_type": "code",
   "execution_count": 11,
   "id": "a2219c20",
   "metadata": {},
   "outputs": [
    {
     "name": "stdout",
     "output_type": "stream",
     "text": [
      "                            OLS Regression Results                            \n",
      "==============================================================================\n",
      "Dep. Variable:                  price   R-squared:                       0.893\n",
      "Model:                            OLS   Adj. R-squared:                  0.892\n",
      "Method:                 Least Squares   F-statistic:                     2541.\n",
      "Date:                Sat, 30 Dec 2023   Prob (F-statistic):          3.04e-150\n",
      "Time:                        13:52:31   Log-Likelihood:                -2597.9\n",
      "No. Observations:                 308   AIC:                             5200.\n",
      "Df Residuals:                     306   BIC:                             5207.\n",
      "Df Model:                           1                                         \n",
      "Covariance Type:            nonrobust                                         \n",
      "==============================================================================\n",
      "                 coef    std err          t      P>|t|      [0.025      0.975]\n",
      "------------------------------------------------------------------------------\n",
      "const      -2298.3576    158.531    -14.498      0.000   -2610.306   -1986.410\n",
      "carat        1.16e+04    230.111     50.406      0.000    1.11e+04    1.21e+04\n",
      "==============================================================================\n",
      "Omnibus:                      170.301   Durbin-Watson:                   1.216\n",
      "Prob(Omnibus):                  0.000   Jarque-Bera (JB):             1324.411\n",
      "Skew:                           2.168   Prob(JB):                    2.56e-288\n",
      "Kurtosis:                      12.187   Cond. No.                         5.13\n",
      "==============================================================================\n",
      "\n",
      "Notes:\n",
      "[1] Standard Errors assume that the covariance matrix of the errors is correctly specified.\n"
     ]
    }
   ],
   "source": [
    "# regression model\n",
    "model1 = sm.OLS(endog=y, exog=X).fit()\n",
    "print(model1.summary())"
   ]
  },
  {
   "cell_type": "code",
   "execution_count": 18,
   "id": "3cd352a5",
   "metadata": {},
   "outputs": [
    {
     "data": {
      "text/plain": [
       "Text(0, 0.5, 'Price')"
      ]
     },
     "execution_count": 18,
     "metadata": {},
     "output_type": "execute_result"
    },
    {
     "data": {
      "image/png": "[encoded data removed]",
      "text/plain": [
       "<Figure size 432x288 with 1 Axes>"
      ]
     },
     "metadata": {
      "needs_background": "light"
     },
     "output_type": "display_data"
    }
   ],
   "source": [
    "# plotting\n",
    "X = df['carat']\n",
    "plt.plot(X, y, 'o')\n",
    "b, a = np.polyfit(X, y, 1)\n",
    "plt.plot(X, b * X + a)\n",
    "plt.xlabel('Carat')\n",
    "plt.ylabel('Price')"
   ]
  },
  {
   "cell_type": "markdown",
   "id": "b69cfa21",
   "metadata": {},
   "source": [
    "# Linear Regression with dummy variable"
   ]
  },
  {
   "cell_type": "code",
   "execution_count": 20,
   "id": "3d1b7e86",
   "metadata": {},
   "outputs": [
    {
     "data": {
      "text/plain": [
       "count    308.000000\n",
       "mean       0.630909\n",
       "std        0.277183\n",
       "min        0.180000\n",
       "25%        0.350000\n",
       "50%        0.620000\n",
       "75%        0.850000\n",
       "max        1.100000\n",
       "Name: carat, dtype: float64"
      ]
     },
     "execution_count": 20,
     "metadata": {},
     "output_type": "execute_result"
    }
   ],
   "source": [
    "df['carat'].describe()"
   ]
  },
  {
   "cell_type": "code",
   "execution_count": 23,
   "id": "3d4b697b",
   "metadata": {},
   "outputs": [
    {
     "data": {
      "text/html": [
       "<div>\n",
       "<style scoped>\n",
       "    .dataframe tbody tr th:only-of-type {\n",
       "        vertical-align: middle;\n",
       "    }\n",
       "\n",
       "    .dataframe tbody tr th {\n",
       "        vertical-align: top;\n",
       "    }\n",
       "\n",
       "    .dataframe thead th {\n",
       "        text-align: right;\n",
       "    }\n",
       "</style>\n",
       "<table border=\"1\" class=\"dataframe\">\n",
       "  <thead>\n",
       "    <tr style=\"text-align: right;\">\n",
       "      <th></th>\n",
       "      <th>Unnamed: 0</th>\n",
       "      <th>carat</th>\n",
       "      <th>colour</th>\n",
       "      <th>clarity</th>\n",
       "      <th>certification</th>\n",
       "      <th>price</th>\n",
       "      <th>caratbinary</th>\n",
       "    </tr>\n",
       "  </thead>\n",
       "  <tbody>\n",
       "    <tr>\n",
       "      <th>0</th>\n",
       "      <td>1</td>\n",
       "      <td>0.30</td>\n",
       "      <td>D</td>\n",
       "      <td>VS2</td>\n",
       "      <td>GIA</td>\n",
       "      <td>1302</td>\n",
       "      <td>0</td>\n",
       "    </tr>\n",
       "    <tr>\n",
       "      <th>1</th>\n",
       "      <td>2</td>\n",
       "      <td>0.30</td>\n",
       "      <td>E</td>\n",
       "      <td>VS1</td>\n",
       "      <td>GIA</td>\n",
       "      <td>1510</td>\n",
       "      <td>0</td>\n",
       "    </tr>\n",
       "    <tr>\n",
       "      <th>2</th>\n",
       "      <td>3</td>\n",
       "      <td>0.30</td>\n",
       "      <td>G</td>\n",
       "      <td>VVS1</td>\n",
       "      <td>GIA</td>\n",
       "      <td>1510</td>\n",
       "      <td>0</td>\n",
       "    </tr>\n",
       "    <tr>\n",
       "      <th>3</th>\n",
       "      <td>4</td>\n",
       "      <td>0.30</td>\n",
       "      <td>G</td>\n",
       "      <td>VS1</td>\n",
       "      <td>GIA</td>\n",
       "      <td>1260</td>\n",
       "      <td>0</td>\n",
       "    </tr>\n",
       "    <tr>\n",
       "      <th>4</th>\n",
       "      <td>5</td>\n",
       "      <td>0.31</td>\n",
       "      <td>D</td>\n",
       "      <td>VS1</td>\n",
       "      <td>GIA</td>\n",
       "      <td>1641</td>\n",
       "      <td>0</td>\n",
       "    </tr>\n",
       "  </tbody>\n",
       "</table>\n",
       "</div>"
      ],
      "text/plain": [
       "   Unnamed: 0  carat colour clarity certification  price  caratbinary\n",
       "0           1   0.30      D     VS2           GIA   1302            0\n",
       "1           2   0.30      E     VS1           GIA   1510            0\n",
       "2           3   0.30      G    VVS1           GIA   1510            0\n",
       "3           4   0.30      G     VS1           GIA   1260            0\n",
       "4           5   0.31      D     VS1           GIA   1641            0"
      ]
     },
     "execution_count": 23,
     "metadata": {},
     "output_type": "execute_result"
    }
   ],
   "source": [
    "df['caratbinary'] = np.where(df['carat'] > 0.6, 1, 0);\n",
    "df.head()"
   ]
  },
  {
   "cell_type": "code",
   "execution_count": 25,
   "id": "e40e9339",
   "metadata": {},
   "outputs": [],
   "source": [
    "X = df['caratbinary']\n",
    "y = df['price']\n",
    "X = sm.add_constant(X)"
   ]
  },
  {
   "cell_type": "code",
   "execution_count": 31,
   "id": "8b07d81c",
   "metadata": {},
   "outputs": [
    {
     "name": "stdout",
     "output_type": "stream",
     "text": [
      "                            OLS Regression Results                            \n",
      "==============================================================================\n",
      "Dep. Variable:                  price   R-squared:                       0.659\n",
      "Model:                            OLS   Adj. R-squared:                  0.658\n",
      "Method:                 Least Squares   F-statistic:                     591.5\n",
      "Date:                Sat, 30 Dec 2023   Prob (F-statistic):           1.79e-73\n",
      "Time:                        16:20:30   Log-Likelihood:                -2775.6\n",
      "No. Observations:                 308   AIC:                             5555.\n",
      "Df Residuals:                     306   BIC:                             5563.\n",
      "Df Model:                           1                                         \n",
      "Covariance Type:            nonrobust                                         \n",
      "===============================================================================\n",
      "                  coef    std err          t      P>|t|      [0.025      0.975]\n",
      "-------------------------------------------------------------------------------\n",
      "const        2225.2303    161.442     13.783      0.000    1907.553    2542.908\n",
      "caratbinary  5516.8595    226.846     24.320      0.000    5070.485    5963.234\n",
      "==============================================================================\n",
      "Omnibus:                       33.053   Durbin-Watson:                   0.504\n",
      "Prob(Omnibus):                  0.000   Jarque-Bera (JB):               48.667\n",
      "Skew:                           0.698   Prob(JB):                     2.70e-11\n",
      "Kurtosis:                       4.358   Cond. No.                         2.63\n",
      "==============================================================================\n",
      "\n",
      "Notes:\n",
      "[1] Standard Errors assume that the covariance matrix of the errors is correctly specified.\n"
     ]
    }
   ],
   "source": [
    "model2 = sm.OLS(endog=y, exog=X).fit()\n",
    "print(model2.summary())"
   ]
  },
  {
   "cell_type": "code",
   "execution_count": 39,
   "id": "d0651ae1",
   "metadata": {},
   "outputs": [
    {
     "data": {
      "text/plain": [
       "[<matplotlib.lines.Line2D at 0x15cc20610>]"
      ]
     },
     "execution_count": 39,
     "metadata": {},
     "output_type": "execute_result"
    },
    {
     "data": {
      "image/png": "[encoded data removed]",
      "text/plain": [
       "<Figure size 432x288 with 1 Axes>"
      ]
     },
     "metadata": {
      "needs_background": "light"
     },
     "output_type": "display_data"
    }
   ],
   "source": [
    "X = df['caratbinary']\n",
    "plt.plot(X, y, 'o')\n",
    "m, c = np.polyfit(X, y, 1)\n",
    "plt.plot(X, m * X + c)"
   ]
  },
  {
   "cell_type": "code",
   "execution_count": null,
   "id": "ee09dcf8",
   "metadata": {},
   "outputs": [],
   "source": []
  },
  {
   "cell_type": "code",
   "execution_count": null,
   "id": "24421b21",
   "metadata": {},
   "outputs": [],
   "source": []
  },
  {
   "cell_type": "code",
   "execution_count": null,
   "id": "891d99eb",
   "metadata": {},
   "outputs": [],
   "source": []
  }
 ],
 "metadata": {
  "kernelspec": {
   "display_name": "Python 3",
   "language": "python",
   "name": "python3"
  },
  "language_info": {
   "codemirror_mode": {
    "name": "ipython",
    "version": 3
   },
   "file_extension": ".py",
   "mimetype": "text/x-python",
   "name": "python",
   "nbconvert_exporter": "python",
   "pygments_lexer": "ipython3",
   "version": "3.9.12"
  }
 },
 "nbformat": 4,
 "nbformat_minor": 5
}
